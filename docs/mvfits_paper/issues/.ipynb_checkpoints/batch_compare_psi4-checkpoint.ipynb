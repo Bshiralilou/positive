{
 "cells": [
  {
   "cell_type": "markdown",
   "metadata": {},
   "source": [
    "# Array Compare $\\psi_4$ data with low and high level MMRDNS Models"
   ]
  },
  {
   "cell_type": "markdown",
   "metadata": {},
   "source": [
    "### Setup The Enviroment"
   ]
  },
  {
   "cell_type": "code",
   "execution_count": 6,
   "metadata": {
    "ExecuteTime": {
     "end_time": "2017-09-20T16:10:20.286860Z",
     "start_time": "2017-09-20T16:10:20.232718"
    },
    "collapsed": false
   },
   "outputs": [
    {
     "name": "stdout",
     "output_type": "stream",
     "text": [
      "The autoreload extension is already loaded. To reload it, use:\n",
      "  %reload_ext autoreload\n"
     ]
    }
   ],
   "source": [
    "# Low-level import \n",
    "from numpy import array,loadtxt,linspace,zeros,exp,ones,unwrap,angle,pi\n",
    "\n",
    "# Setup ipython environment\n",
    "%load_ext autoreload\n",
    "%autoreload 2\n",
    "%matplotlib inline\n",
    "\n",
    "# Import useful things from kerr\n",
    "from kerr.formula.ksm2_cw import CW as cwfit\n",
    "from kerr.formula.ksm2_sc import SC as scfit\n",
    "from kerr.pttools import leaver_workfunction as lvrwork\n",
    "from kerr import leaver,rgb\n",
    "from kerr.models import mmrdns \n",
    "\n",
    "#\n",
    "from nrutils import scsearch,gwylm,gwf\n",
    "\n",
    "# Setup plotting backend\n",
    "import matplotlib as mpl\n",
    "mpl.rcParams['lines.linewidth'] = 0.8\n",
    "mpl.rcParams['font.family'] = 'serif'\n",
    "mpl.rcParams['font.size'] = 12\n",
    "mpl.rcParams['axes.labelsize'] = 20\n",
    "from matplotlib.pyplot import *"
   ]
  },
  {
   "cell_type": "markdown",
   "metadata": {},
   "source": [
    "### Define master plotting function"
   ]
  },
  {
   "cell_type": "code",
   "execution_count": 7,
   "metadata": {
    "ExecuteTime": {
     "end_time": "2017-09-20T16:10:33.314548Z",
     "start_time": "2017-09-20T16:10:33.037711"
    },
    "collapsed": true
   },
   "outputs": [],
   "source": [
    "def plot_comparison(ll,mm,q,T0,ax):\n",
    "    \n",
    "    # Load the data\n",
    "    data_file_string = '/Users/book/GARREG/Spectroscopy/Ylm_Depictions/NonPrecessing/MULTI_DATA_6/T0_%i_nmax2_Mmin97ll_Mmin_r75_qref1.50__p1_17-Mar-2014gnx_/Data_Sets/HRq-series/D9_q%1.1f_a0.0_m160/DEPICTION_INFO::NODD_INPUT_ll%i_mm%i_r75.asc'%(T0,q,ll,mm)\n",
    "    data = loadtxt(data_file_string)\n",
    "\n",
    "    # Collect raw fit data for later convenience\n",
    "    rfdata = {}\n",
    "    for k,row in enumerate(data):\n",
    "        #\n",
    "        ll,mm,q,m1,m2,x1,x2,jf,Mf,qid,rew,imw,rewfit,imwfit,reA,imA,reAmean,imAmean,minA,maxA,T1,dT,match,rmse,reB,imB,reBmean,imBmean,minB,maxB = row\n",
    "        ll,mm = int(ll),int(mm)\n",
    "        A = reA+1j*imA\n",
    "        cw = rew + 1j*imw\n",
    "        try:\n",
    "            l,m,n,p = mmrdns.calc_z(qid)\n",
    "        except:\n",
    "            l,m,n,p,l2,m2,n2,p2 = mmrdns.calc_z(qid)\n",
    "        rfdata[(l,m,n,p)] = {}\n",
    "        rfdata[(l,m,n,p)]['ll'],rfdata[(l,m,n,p)]['mm'],rfdata[(l,m,n,p)]['A'],rfdata[(l,m,n,p)]['cw'] = ll,mm,A,cw\n",
    "        \n",
    "    # Print the relative phase\n",
    "    print angle( rfdata[(max(mm,2),mm,0,1)]['A'] * rfdata[(ll,mm,0,1)]['A'].conj() )\n",
    "    print angle( mmrdns.Afit(2,2,0,mmrdns.q2eta(q))  * mmrdns.Afit(3,2,0,mmrdns.q2eta(q)).conj() )\n",
    "    \n",
    "    # Define function to calculate raw fit\n",
    "    def rawfit(t):\n",
    "        y = zeros( t.shape, dtype=complex )\n",
    "        for k,row in enumerate(data):\n",
    "            #\n",
    "            ll,mm,q,m1,m2,x1,x2,jf,Mf,qid,rew,imw,rewfit,imwfit,reA,imA,reAmean,imAmean,minA,maxA,T1,dT,match,rmse,reB,imB,reBmean,imBmean,minB,maxB = row\n",
    "            ll,mm = int(ll),int(mm)\n",
    "            A = reA+1j*imA\n",
    "            cw = rew + 1j*imw\n",
    "            try:\n",
    "                l,m,n,p = mmrdns.calc_z(qid)\n",
    "            except:\n",
    "                l,m,n,p,l2,m2,n2,p2 = mmrdns.calc_z(qid)\n",
    "            # NOTE that the amplitudes are for Psi4 here\n",
    "            if True: # (l,m,n,p) in [ (2,2,0,1) ,(2,2,1,1) ]  :\n",
    "                y += A*exp( 1j*cw*(t-T0) )\n",
    "\n",
    "        #\n",
    "        a = gwf( array( [t,y.real,-y.imag] ).T )\n",
    "\n",
    "        #\n",
    "        return a,q\n",
    "\n",
    "    _,q = rawfit( linspace(T0,50) )\n",
    "\n",
    "    #\n",
    "    # A = scsearch( keyword='hrq',notkeyword='athena', q=q, nonspinning=True,verbose=True )[0]\n",
    "    A = scsearch( keyword=['hr','athena'], q=q, nonspinning=True,verbose=True )[0]\n",
    "\n",
    "    #\n",
    "    imrnr = gwylm( A, lm=([ll,mm],[2,2]), verbose=True, dt=0.5 )\n",
    "    nr = imrnr.ringdown(T0=T0,use_peak_strain=False,T1=160)\n",
    "\n",
    "    y,_ = rawfit( nr.lm[(ll,mm)]['psi4'].t )\n",
    "\n",
    "    #\n",
    "    eta = mmrdns.q2eta(q)\n",
    "    h = mmrdns.meval_spherical_mode(ll,mm,eta,kind='psi4',gwfout=True)(nr.ylm[0].t)\n",
    "\n",
    "    h.align(nr.lm[(ll,mm)]['psi4'],method='average-phase',mask=nr.ylm[0].t<60)\n",
    "    y.align(nr.lm[(ll,mm)]['psi4'],method='average-phase',mask=nr.ylm[0].t<60)\n",
    "\n",
    "#     nr.lm[(ll,mm)]['psi4'].plot()\n",
    "#     y.plot()\n",
    "#     h.plot()\n",
    "\n",
    "    #fig = figure( figsize=2*array([5,3]) )\n",
    "    sca(ax)\n",
    "    ax.set_yscale(\"log\", nonposy='clip')\n",
    "\n",
    "    plot( nr.ylm[0].t, nr.lm[(ll,mm)]['psi4'].amp, color=0.5*ones((3,)), label=None )\n",
    "    plot( nr.ylm[0].t, y.amp, '--k', label=None )\n",
    "    plot( nr.ylm[0].t, h.amp, 'k', alpha=0.2, linewidth=6, label=None )\n",
    "\n",
    "    plot( nr.ylm[0].t, nr.lm[(ll,mm)]['psi4'].plus, color=0.5*ones((3,)), label='NR' )\n",
    "    plot( nr.ylm[0].t, y.plus, '--k', label='RAW-FIT' )\n",
    "    plot( nr.ylm[0].t, h.plus, 'k', alpha=0.2, linewidth=6,label='MMRDNS' )\n",
    "\n",
    "    # plot( nr.ylm[0].t, nr.lm[(ll,mm)]['psi4'].cross, color=0.5*ones((3,)), label='NR', alpha=0.8 )\n",
    "    # plot( nr.ylm[0].t, y.cross, '--k', label='RAW-FIT', alpha=0.8 )\n",
    "    # plot( nr.ylm[0].t, h.cross, 'k', alpha=0.1, linewidth=6, label='MMRDNS' )\n",
    "\n",
    "    ylim( [max(nr.lm[(ll,mm)]['psi4'].amp)*1e-5,1.2*max(nr.lm[(ll,mm)]['psi4'].amp)] )\n",
    "    xlim( [T0,150] )\n",
    "\n",
    "    xlabel(r'$(t-\\mathrm{argmax}_t(\\dot{h}(t)))/M$')\n",
    "    ylabel(r'${rM}\\psi_{%i%i}$'%(ll,mm))\n",
    "\n",
    "    legend(frameon=False)\n",
    "    title( nr.label )"
   ]
  },
  {
   "cell_type": "markdown",
   "metadata": {},
   "source": [
    "### Define parameter ranges"
   ]
  },
  {
   "cell_type": "code",
   "execution_count": 10,
   "metadata": {
    "ExecuteTime": {
     "end_time": "2017-09-20T16:52:25.437242Z",
     "start_time": "2017-09-20T16:52:25.308061"
    },
    "collapsed": true
   },
   "outputs": [],
   "source": [
    "T0_range = [10]\n",
    "llmm_range = [ (2,2), (2,1), (3,3), (3,2), (4,4), (4,3), (5,5) ]\n",
    "q_range = [ 1.2, 4 ]"
   ]
  },
  {
   "cell_type": "code",
   "execution_count": null,
   "metadata": {
    "ExecuteTime": {
     "end_time": "2017-09-20T16:52:36.498145Z",
     "start_time": "2017-09-20T15:52:33.263Z"
    },
    "collapsed": false,
    "scrolled": false
   },
   "outputs": [],
   "source": [
    "#\n",
    "fig,axarr = subplots( len(llmm_range), len(q_range),figsize=6*array( [5,6] ))\n",
    "tight_layout(pad=3, w_pad=3, h_pad=3)\n",
    "\n",
    "#\n",
    "for T0 in T0_range:\n",
    "    for k,(ll,mm) in enumerate(llmm_range):\n",
    "        for h,q in enumerate(q_range):\n",
    "            #\n",
    "            ax = axarr[k,h]\n",
    "            plot_comparison(ll,mm,q,T0,ax)\n",
    "\n",
    "savefig('compare_psi4.pdf')"
   ]
  }
 ],
 "metadata": {
  "kernelspec": {
   "display_name": "Python [Root]",
   "language": "python",
   "name": "Python [Root]"
  },
  "language_info": {
   "codemirror_mode": {
    "name": "ipython",
    "version": 2
   },
   "file_extension": ".py",
   "mimetype": "text/x-python",
   "name": "python",
   "nbconvert_exporter": "python",
   "pygments_lexer": "ipython2",
   "version": "2.7.9"
  }
 },
 "nbformat": 4,
 "nbformat_minor": 0
}
