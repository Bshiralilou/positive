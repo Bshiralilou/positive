{
 "cells": [
  {
   "cell_type": "markdown",
   "metadata": {},
   "source": [
    "# Example for calculating spherical-spheroidal inner-products\n",
    "This example uses the `qnmobj` class to calculate inner-products. The advantage of using the class (rather than eg `positive.ysprod`) is that correct convention usage is promoted (and on some level assured).\n",
    "\n",
    "In this notebook we will:\n",
    "1. define a kerr black hole via its mass and spin; given this mass and spin, we will create a qnmobj instance; each member of the qnmobj class encapsulates many useful and manifestly self-consistent methods for black hole perturbation theory calculations\n",
    "2. We will use `qnmobj.ysprod` to determine inner products \n",
    "3. Comute and plot inner-products for a range of BH spins\n",
    "\n",
    "Note that\n",
    "* spherical-spheroidal inner-products are invariant w.r.t. BH mass (if you change the mass the inner-products dont change)\n",
    "* the inner-products sometimes need to be conjugated for your use -- this depends on the conventions at play. The `qnmobj` is made to be compatible with two convention types. See `qnmobj.explain_conventions()` for more information."
   ]
  },
  {
   "cell_type": "code",
   "execution_count": 1,
   "metadata": {},
   "outputs": [
    {
     "name": "stdout",
     "output_type": "stream",
     "text": [
      "(\u001b[0;36mpositive\u001b[0m)>> Applying custom matplotlib settings.\n"
     ]
    }
   ],
   "source": [
    "# Setup the notebook environment\n",
    "%load_ext autoreload\n",
    "%autoreload 2\n",
    "%matplotlib inline\n",
    "# The Important Things\n",
    "from matplotlib.pyplot import *\n",
    "from numpy import *\n",
    "from positive import *"
   ]
  },
  {
   "cell_type": "code",
   "execution_count": 2,
   "metadata": {},
   "outputs": [
    {
     "data": {
      "text/plain": [
       "\u001b[0;31mInit signature:\u001b[0m \u001b[0mqnmobj\u001b[0m\u001b[0;34m(\u001b[0m\u001b[0mthis\u001b[0m\u001b[0;34m,\u001b[0m \u001b[0mM\u001b[0m\u001b[0;34m,\u001b[0m \u001b[0ma\u001b[0m\u001b[0;34m,\u001b[0m \u001b[0ml\u001b[0m\u001b[0;34m,\u001b[0m \u001b[0mm\u001b[0m\u001b[0;34m,\u001b[0m \u001b[0mn\u001b[0m\u001b[0;34m,\u001b[0m \u001b[0mp\u001b[0m\u001b[0;34m=\u001b[0m\u001b[0mNone\u001b[0m\u001b[0;34m,\u001b[0m \u001b[0ms\u001b[0m\u001b[0;34m=\u001b[0m\u001b[0;34m-\u001b[0m\u001b[0;36m2\u001b[0m\u001b[0;34m,\u001b[0m \u001b[0mverbose\u001b[0m\u001b[0;34m=\u001b[0m\u001b[0mFalse\u001b[0m\u001b[0;34m,\u001b[0m \u001b[0mcalc_slm\u001b[0m\u001b[0;34m=\u001b[0m\u001b[0mTrue\u001b[0m\u001b[0;34m,\u001b[0m \u001b[0mcalc_rlm\u001b[0m\u001b[0;34m=\u001b[0m\u001b[0mTrue\u001b[0m\u001b[0;34m,\u001b[0m \u001b[0muse_nr_convention\u001b[0m\u001b[0;34m=\u001b[0m\u001b[0mTrue\u001b[0m\u001b[0;34m,\u001b[0m \u001b[0mrefine\u001b[0m\u001b[0;34m=\u001b[0m\u001b[0mFalse\u001b[0m\u001b[0;34m,\u001b[0m \u001b[0mnum_xi\u001b[0m\u001b[0;34m=\u001b[0m\u001b[0;36m16384\u001b[0m\u001b[0;34m,\u001b[0m \u001b[0mnum_theta\u001b[0m\u001b[0;34m=\u001b[0m\u001b[0;36m512\u001b[0m\u001b[0;34m,\u001b[0m \u001b[0mharmonic_norm_convention\u001b[0m\u001b[0;34m=\u001b[0m\u001b[0mNone\u001b[0m\u001b[0;34m,\u001b[0m \u001b[0mamplitude\u001b[0m\u001b[0;34m=\u001b[0m\u001b[0mNone\u001b[0m\u001b[0;34m,\u001b[0m \u001b[0m__DEVELOPMENT__\u001b[0m\u001b[0;34m=\u001b[0m\u001b[0mFalse\u001b[0m\u001b[0;34m)\u001b[0m\u001b[0;34m\u001b[0m\u001b[0m\n",
       "\u001b[0;31mDocstring:\u001b[0m     \n",
       "DESCRIPTION\n",
       "---\n",
       "Class for Kerr QNMs. Self-consistent handling of frequencies, and spheroidal harmonics under different conventions.\n",
       "\n",
       "AUTHOR\n",
       "---\n",
       "londonl@mit.edu, pilondon2@gmail.com 2021\n",
       "\u001b[0;31mFile:\u001b[0m           ~/JOKI/Libs/KOALA/positive_dev/positive/physics.py\n",
       "\u001b[0;31mType:\u001b[0m           classobj\n"
      ]
     },
     "metadata": {},
     "output_type": "display_data"
    }
   ],
   "source": [
    "# Print doc string for the qnmobj class\n",
    "?qnmobj"
   ]
  },
  {
   "cell_type": "markdown",
   "metadata": {},
   "source": [
    "### Define a Kerr BH via its mass and spin ($ a = J/M = \\chi*M$ )"
   ]
  },
  {
   "cell_type": "code",
   "execution_count": 3,
   "metadata": {},
   "outputs": [],
   "source": [
    "M = 1\n",
    "a = 0.7"
   ]
  },
  {
   "cell_type": "markdown",
   "metadata": {},
   "source": [
    "### Create a qnmobj class instance using the standard perturbation theory convention. See `qnmobj.explain_conventions()` for more information."
   ]
  },
  {
   "cell_type": "code",
   "execution_count": 6,
   "metadata": {},
   "outputs": [
    {
     "name": "stdout",
     "output_type": "stream",
     "text": [
      "(\u001b[0;36m__validate_inputs__\u001b[0m)>> \u001b[0;33mNot using NR convention\u001b[0m for organizing solution space and setting the sign of the QNM freuency imaginary part.\n",
      "(\u001b[0;36m__leaver_helper__\u001b[0m)>> \u001b[0;35mNOT using NR convention \u001b[0mfor organizing solution space and setting the sign of the QNM freuency imaginary part.\n",
      "(\u001b[0;36m__leaver_helper__\u001b[0m)>> Loading: \u001b[0;36m/Users/book/JOKI/Libs/KOALA/positive_dev/positive/data/kerr/l3/n0l3m2.dat\u001b[0m\n",
      "(\u001b[0;36m__leaver_helper__\u001b[0m)>> \u001b[0;34mCheck Passed:\u001b[0mFrequency and separation const. \u001b[1m\u001b[0;34msatisfy Leaver's equations\u001b[0m\u001b[0m with (l,m)=(3,2). Zero is approx \u001b[0;35m8.79e-08\u001b[0m.\n",
      "(\u001b[0;36mtest_slm\u001b[0m)>> \u001b[0;34mCheck Passed: \u001b[0mThis object's spheroidal harmonic solves Teukolsky's angular equation with zero approximated by \u001b[0;35m2.26e-09\u001b[0m.\n"
     ]
    }
   ],
   "source": [
    "# We are interested in the QNM with spheroidal indices l,m and n. \n",
    "l = 3\n",
    "m = 2\n",
    "n = 0\n",
    "\n",
    "# Create the qnmobj for the (l,m,n) defined above. \n",
    "# Given this QNM object we can calculate the \n",
    "# inner-product between a spheroidal harmonic with \n",
    "# that (l,m,n), and a spherical harmonic with (lp,mp)\n",
    "#\n",
    "# NOTES:\n",
    "# * We don't need the radial teukolsky function to calculate the inner-product, se we turn that off\n",
    "# * By default the NR convention is used, so we turn that off here to use the perturbatino theory convention\n",
    "# * We turn verbose mode on to lean about that the code is doing\n",
    "#\n",
    "foo = qnmobj(M,a,l,m,n,use_nr_convention=False,calc_rlm=False,verbose=True)"
   ]
  },
  {
   "cell_type": "markdown",
   "metadata": {},
   "source": [
    "### Compute the spherical spheroidal inner-product\n",
    "\n",
    "For the $(\\ell,m,n)=(3,2,0)$ QNM above, we want to compute, for example, the following inner-pproduct\n",
    "\n",
    "$\\langle Y_{22} | S_{320} \\rangle = 2 \\pi \\int_{0}^{\\pi} Y_{22}(\\theta) S_{320}(\\theta) \\sin(\\theta) \\mathrm{d}\\theta$\n",
    "\n",
    "Above,  Y_{22}(\\theta) is the theta part of the spherical harmonic, and that the full spherical harmonic is fiven by\n",
    "\n",
    "$Y_{\\ell m}(\\theta,\\phi) = e^{i m \\phi} Y_{\\ell m}(\\theta)$\n",
    "\n",
    "The same is true for the spheroidal harmonic\n",
    "\n",
    "$S_{\\ell m n}(\\theta,\\phi) = e^{i m \\phi} S_{\\ell m n}(\\theta)$\n",
    "\n",
    "\n",
    "Since $\\int_{0}^{2\\pi} e^{i m \\phi} e^{i m' \\phi} \\mathrm{d}\\phi = \\delta_{m m'}$, we have that spherical-spheroidal inner-products with $m\\neq m'$ are all zero."
   ]
  },
  {
   "cell_type": "code",
   "execution_count": 17,
   "metadata": {},
   "outputs": [
    {
     "data": {
      "text/plain": [
       "\u001b[0;31mSignature:\u001b[0m \u001b[0mfoo\u001b[0m\u001b[0;34m.\u001b[0m\u001b[0mysprod\u001b[0m\u001b[0;34m(\u001b[0m\u001b[0mlj\u001b[0m\u001b[0;34m,\u001b[0m \u001b[0mmj\u001b[0m\u001b[0;34m)\u001b[0m\u001b[0;34m\u001b[0m\u001b[0m\n",
       "\u001b[0;31mSource:\u001b[0m   \n",
       "    \u001b[0;32mdef\u001b[0m \u001b[0mysprod\u001b[0m\u001b[0;34m(\u001b[0m\u001b[0mthis\u001b[0m\u001b[0;34m,\u001b[0m\u001b[0mlj\u001b[0m\u001b[0;34m,\u001b[0m\u001b[0mmj\u001b[0m\u001b[0;34m)\u001b[0m\u001b[0;34m:\u001b[0m\u001b[0;34m\u001b[0m\n",
       "\u001b[0;34m\u001b[0m        \u001b[0;34m\u001b[0m\n",
       "\u001b[0;34m\u001b[0m        \u001b[0;31m#\u001b[0m\u001b[0;34m\u001b[0m\n",
       "\u001b[0;34m\u001b[0m        \u001b[0;32mfrom\u001b[0m \u001b[0mnumpy\u001b[0m \u001b[0;32mimport\u001b[0m \u001b[0mpi\u001b[0m\u001b[0;34m,\u001b[0m\u001b[0msqrt\u001b[0m\u001b[0;34m,\u001b[0m\u001b[0msin\u001b[0m\u001b[0;34m\u001b[0m\n",
       "\u001b[0;34m\u001b[0m        \u001b[0;32mfrom\u001b[0m \u001b[0mpositive\u001b[0m \u001b[0;32mimport\u001b[0m \u001b[0msYlm\u001b[0m\u001b[0;34m\u001b[0m\n",
       "\u001b[0;34m\u001b[0m        \u001b[0;34m\u001b[0m\n",
       "\u001b[0;34m\u001b[0m        \u001b[0;31m#\u001b[0m\u001b[0;34m\u001b[0m\n",
       "\u001b[0;34m\u001b[0m        \u001b[0;32mif\u001b[0m \u001b[0;32mnot\u001b[0m \u001b[0;34m(\u001b[0m\u001b[0;34m'slm'\u001b[0m \u001b[0;32min\u001b[0m \u001b[0mthis\u001b[0m\u001b[0;34m.\u001b[0m\u001b[0m__dict__\u001b[0m\u001b[0;34m)\u001b[0m\u001b[0;34m:\u001b[0m\u001b[0;34m\u001b[0m\n",
       "\u001b[0;34m\u001b[0m            \u001b[0mthis\u001b[0m\u001b[0;34m.\u001b[0m\u001b[0mcalc_slm\u001b[0m\u001b[0;34m(\u001b[0m\u001b[0m__return__\u001b[0m\u001b[0;34m=\u001b[0m\u001b[0mFalse\u001b[0m\u001b[0;34m)\u001b[0m\u001b[0;34m\u001b[0m\n",
       "\u001b[0;34m\u001b[0m        \u001b[0;34m\u001b[0m\n",
       "\u001b[0;34m\u001b[0m        \u001b[0;31m#\u001b[0m\u001b[0;34m\u001b[0m\n",
       "\u001b[0;34m\u001b[0m        \u001b[0myj\u001b[0m \u001b[0;34m=\u001b[0m \u001b[0msYlm\u001b[0m\u001b[0;34m(\u001b[0m\u001b[0mthis\u001b[0m\u001b[0;34m.\u001b[0m\u001b[0ms\u001b[0m\u001b[0;34m,\u001b[0m\u001b[0mlj\u001b[0m\u001b[0;34m,\u001b[0m\u001b[0mmj\u001b[0m\u001b[0;34m,\u001b[0m\u001b[0mthis\u001b[0m\u001b[0;34m.\u001b[0m\u001b[0m__theta__\u001b[0m\u001b[0;34m,\u001b[0m\u001b[0mthis\u001b[0m\u001b[0;34m.\u001b[0m\u001b[0m__phi__\u001b[0m\u001b[0;34m)\u001b[0m\u001b[0;34m\u001b[0m\n",
       "\u001b[0;34m\u001b[0m        \u001b[0myj\u001b[0m \u001b[0;34m=\u001b[0m \u001b[0myj\u001b[0m \u001b[0;34m/\u001b[0m \u001b[0msqrt\u001b[0m\u001b[0;34m(\u001b[0m \u001b[0mprod\u001b[0m\u001b[0;34m(\u001b[0m\u001b[0myj\u001b[0m\u001b[0;34m,\u001b[0m\u001b[0myj\u001b[0m\u001b[0;34m,\u001b[0m\u001b[0mthis\u001b[0m\u001b[0;34m.\u001b[0m\u001b[0m__theta__\u001b[0m\u001b[0;34m,\u001b[0m\u001b[0mWEIGHT_FUNCTION\u001b[0m\u001b[0;34m=\u001b[0m\u001b[0;36m2\u001b[0m\u001b[0;34m*\u001b[0m\u001b[0mpi\u001b[0m\u001b[0;34m*\u001b[0m\u001b[0msin\u001b[0m\u001b[0;34m(\u001b[0m\u001b[0mthis\u001b[0m\u001b[0;34m.\u001b[0m\u001b[0m__theta__\u001b[0m\u001b[0;34m)\u001b[0m\u001b[0;34m)\u001b[0m \u001b[0;34m)\u001b[0m\u001b[0;34m\u001b[0m\n",
       "\u001b[0;34m\u001b[0m        \u001b[0;34m\u001b[0m\n",
       "\u001b[0;34m\u001b[0m        \u001b[0;31m#\u001b[0m\u001b[0;34m\u001b[0m\n",
       "\u001b[0;34m\u001b[0m        \u001b[0mys\u001b[0m \u001b[0;34m=\u001b[0m \u001b[0mprod\u001b[0m\u001b[0;34m(\u001b[0m \u001b[0myj\u001b[0m\u001b[0;34m,\u001b[0m \u001b[0mthis\u001b[0m\u001b[0;34m.\u001b[0m\u001b[0mslm\u001b[0m\u001b[0;34m,\u001b[0m \u001b[0mthis\u001b[0m\u001b[0;34m.\u001b[0m\u001b[0m__theta__\u001b[0m\u001b[0;34m,\u001b[0m\u001b[0mWEIGHT_FUNCTION\u001b[0m\u001b[0;34m=\u001b[0m\u001b[0;36m2\u001b[0m\u001b[0;34m*\u001b[0m\u001b[0mpi\u001b[0m\u001b[0;34m*\u001b[0m\u001b[0msin\u001b[0m\u001b[0;34m(\u001b[0m\u001b[0mthis\u001b[0m\u001b[0;34m.\u001b[0m\u001b[0m__theta__\u001b[0m\u001b[0;34m)\u001b[0m\u001b[0;34m)\u001b[0m \u001b[0;32mif\u001b[0m \u001b[0mmj\u001b[0m \u001b[0;34m==\u001b[0m \u001b[0mthis\u001b[0m\u001b[0;34m.\u001b[0m\u001b[0mm\u001b[0m \u001b[0;32melse\u001b[0m \u001b[0;36m0\u001b[0m\u001b[0;34m\u001b[0m\n",
       "\u001b[0;34m\u001b[0m        \u001b[0;34m\u001b[0m\n",
       "\u001b[0;34m\u001b[0m        \u001b[0;31m#\u001b[0m\u001b[0;34m\u001b[0m\n",
       "\u001b[0;34m\u001b[0m        \u001b[0;32mreturn\u001b[0m \u001b[0mys\u001b[0m\u001b[0;34m\u001b[0m\u001b[0m\n",
       "\u001b[0;31mFile:\u001b[0m      ~/JOKI/Libs/KOALA/positive_dev/positive/physics.py\n",
       "\u001b[0;31mType:\u001b[0m      instancemethod\n"
      ]
     },
     "metadata": {},
     "output_type": "display_data"
    }
   ],
   "source": [
    "??foo.ysprod"
   ]
  },
  {
   "cell_type": "code",
   "execution_count": 11,
   "metadata": {},
   "outputs": [
    {
     "name": "stdout",
     "output_type": "stream",
     "text": [
      "(-0.0998492091417+0.0127005952021j)\n"
     ]
    }
   ],
   "source": [
    "# Define the spherical l and m of interest\n",
    "spherical_l = 2\n",
    "spherical_m = 2\n",
    "\n",
    "# Compute the inner-product described above using the class function\n",
    "print foo.ysprod( spherical_l, spherical_m )"
   ]
  },
  {
   "cell_type": "code",
   "execution_count": 12,
   "metadata": {},
   "outputs": [
    {
     "name": "stdout",
     "output_type": "stream",
     "text": [
      "0.100653711728\n"
     ]
    }
   ],
   "source": [
    "# This is a relatively large number -- for this BH spin, about 10% of the 22-mode will apear in the 32 mode!\n",
    "print abs(foo.ysprod( spherical_l, spherical_m ))"
   ]
  },
  {
   "cell_type": "markdown",
   "metadata": {},
   "source": [
    "### Compute the inner-product for a range of BH spins "
   ]
  },
  {
   "cell_type": "code",
   "execution_count": 15,
   "metadata": {},
   "outputs": [],
   "source": [
    "# Define some BH spins\n",
    "a_range = linspace(0,0.99,60)\n",
    "\n",
    "# Compute the same inner-product discussed above, but for different values of the BH spin\n",
    "ys = array([ qnmobj(M,a_,l,m,n,use_nr_convention=False,calc_rlm=False,verbose=False).ysprod( spherical_l, spherical_m ) for a_ in a_range ])"
   ]
  },
  {
   "cell_type": "code",
   "execution_count": 19,
   "metadata": {},
   "outputs": [
    {
     "data": {
      "image/png": "[encoded data removed]",
      "text/plain": [
       "<Figure size 432x288 with 1 Axes>"
      ]
     },
     "metadata": {
      "needs_background": "light"
     },
     "output_type": "display_data"
    }
   ],
   "source": [
    "# Plot the absolute value\n",
    "plot( a_range, abs(ys) )\n",
    "xlabel(r'$\\chi M$')\n",
    "ylabel(r'$\\langle Y_{22} | S_{320}  \\rangle$');"
   ]
  },
  {
   "cell_type": "markdown",
   "metadata": {},
   "source": [
    "### Print information about conventions for related reference"
   ]
  },
  {
   "cell_type": "code",
   "execution_count": 20,
   "metadata": {},
   "outputs": [
    {
     "name": "stdout",
     "output_type": "stream",
     "text": [
      "\n",
      "# -~-~-~-~-~-~-~-~-~-~-~-~-~-~-~-~-~-~-~-~-~-~-~-~-~-~-~ #\n",
      "\u001b[1m(\u001b[0;36mexplain_conventions\u001b[0m)>> General Explaination\u001b[0m\n",
      "# -~-~-~-~-~-~-~-~-~-~-~-~-~-~-~-~-~-~-~-~-~-~-~-~-~-~-~ #\n",
      "\n",
      "Hi, this is an explaination of what the NR convention is for Black Hole(BH)\n",
      "QuasiNormal Modes (QNMs). There are approximately two conventions used when\n",
      "working with BH QNMs. They are the NR convention, and the Perturbation\n",
      "Theory (PT) convention. \n",
      "        \n",
      "\n",
      "# -~-~-~-~-~-~-~-~-~-~-~-~-~-~-~-~-~-~-~-~-~-~-~-~-~-~-~-~-~-~-~-~-~ #\n",
      "\u001b[1m(\u001b[0;36mexplain_conventions\u001b[0m)>> Numerical Relativity Conventions\u001b[0m\n",
      "# -~-~-~-~-~-~-~-~-~-~-~-~-~-~-~-~-~-~-~-~-~-~-~-~-~-~-~-~-~-~-~-~-~ #\n",
      "\n",
      "\n",
      "        * QNM are defined by 4 numbers\n",
      "        * the usual l,m,n, but also a number p which labels whether modes are prograde\n",
      "            (p=1) or retrograde (p=-1).\n",
      "        * The QNM frequencies are generally complex valued (ie complex omegas, thus the\n",
      "            vairable name \"cw\"). The real part of the frequency, Re(cw), is the time domain \n",
      "            waveform's central frequency. The imaginary part is the time domain amplitude's\n",
      "            expontntial decay rate.\n",
      "        * In the NR convention, Im(cw)>0, always. This is due to a convention in how the phase\n",
      "            is defined. In particular, there is no minus sign explicitly present when writing\n",
      "            down phases.\n",
      "        * PROGRADE QNMs have frequencies correspond to perturbations which propigate at the\n",
      "            source *in the direction of* the BH spin.\n",
      "        * RETROGRADE QNMs have frequencies correspond to perturbations which propigate at the\n",
      "            source *against the direction of* the BH spin.\n",
      "\n",
      "\n",
      "                Prograde            Retrograde\n",
      "        ------------------------------------------\n",
      "        m>0     Re(cw)>0             Re(cw)<0\n",
      "\n",
      "        m<0     Re(cw)<0             Re(cw)>0\n",
      "\n",
      "        \n",
      "\n",
      "# -~-~-~-~-~-~-~-~-~-~-~-~-~-~-~-~-~-~-~-~-~-~-~-~-~-~-~-~-~-~-~-~-~ #\n",
      "\u001b[1m(\u001b[0;36mexplain_conventions\u001b[0m)>> Perturabtion Theory Conventions\u001b[0m\n",
      "# -~-~-~-~-~-~-~-~-~-~-~-~-~-~-~-~-~-~-~-~-~-~-~-~-~-~-~-~-~-~-~-~-~ #\n",
      "\n",
      "\n",
      "        * QNM are defined by 3 numbers, the usual l,m and n\n",
      "        * The QNM frequencies are generally complex valued (ie complex omegas, thus the\n",
      "            vairable name \"cw\"). The real part of the frequency, Re(cw), is the time domain \n",
      "            waveform's central frequency. The imaginary part is the time domain amplitude's\n",
      "            expontntial decay rate.\n",
      "        * In the PT convention, Im(cw)<0, always. This is due to a convention in how the phase\n",
      "            is defined. In particular, there must be a minus sign explicitly present when writing\n",
      "            down phases.\n",
      "        * Positive m QNMs have frequencies correspond to perturbations which propigate at the\n",
      "            source *in the direction of* the BH spin.\n",
      "        * Negative m QNMs have frequencies correspond to perturbations which propigate at the\n",
      "            source *against the direction of* the BH spin.\n",
      "        * There are harmonics defined above and below the x-y plane. Viewing the plane from \n",
      "            below corresponds to the transformation of QNM frequencies, cw, where \n",
      "                            cw --> -cw.conj() . \n",
      "            To accomodate this, the concept of MIRROR MODES is imagined. \n",
      "        * When generally writing down radation, mirror modes must be added manually using the \n",
      "            conjugate symmetry cited above. Note that this symmetry applies to the spheroial\n",
      "            harmonics also.\n",
      "\n",
      "                Prograde            Retrograde\n",
      "        ------------------------------------------\n",
      "        m>0     Re(cw)>0      Must manually define \"mirror mode\"\n",
      "\n",
      "        m<0     Re(cw)<0      Must manually define \"mirror mode\"\n",
      "        \n",
      "\n",
      "# -~-~-~-~-~-~-~-~-~-~-~-~-~-~-~-~-~-~-~-~-~-~-~-~ #\n",
      "\u001b[1m(\u001b[0;36mexplain_conventions\u001b[0m)>> Final Comments\u001b[0m\n",
      "# -~-~-~-~-~-~-~-~-~-~-~-~-~-~-~-~-~-~-~-~-~-~-~-~ #\n",
      "\n",
      " \n",
      "        One must never mix conventions.\n",
      "\n",
      "        The practical outcomes of using one convention over the other are:\n",
      "\n",
      "            * Inner products, such as those between spherical and spheroidal harmonics are conjugated between conventions when p=1. When p=-1, they are related by negation and conjugation. \n",
      "            * Similarly the spheroidal harmonic functions are similarly related between conventions.\n",
      "            * Note that the spheroidal harmonic type functions are defined up to a phase which may be unique for each harmonic.\n",
      "            * There is a factor of (-1)^l when mapping +m to -m spherical-spheroidal inner-products\n",
      "        \n"
     ]
    }
   ],
   "source": [
    "foo.explain_conventions()"
   ]
  },
  {
   "cell_type": "code",
   "execution_count": null,
   "metadata": {},
   "outputs": [],
   "source": []
  }
 ],
 "metadata": {
  "kernelspec": {
   "display_name": "LIGO+Python2.7",
   "language": "python",
   "name": "ligo-py2"
  },
  "language_info": {
   "codemirror_mode": {
    "name": "ipython",
    "version": 2
   },
   "file_extension": ".py",
   "mimetype": "text/x-python",
   "name": "python",
   "nbconvert_exporter": "python",
   "pygments_lexer": "ipython2",
   "version": "2.7.17"
  }
 },
 "nbformat": 4,
 "nbformat_minor": 4
}
